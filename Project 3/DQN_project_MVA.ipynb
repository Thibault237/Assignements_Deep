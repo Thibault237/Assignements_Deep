{
 "cells": [
  {
   "cell_type": "markdown",
   "metadata": {},
   "source": [
    "**You may need to install [OpenCV](https://pypi.python.org/pypi/opencv-python) and [scikit-video](http://www.scikit-video.org/stable/).**"
   ]
  },
  {
   "cell_type": "code",
   "execution_count": 1,
   "metadata": {},
   "outputs": [
    {
     "name": "stderr",
     "output_type": "stream",
     "text": [
      "Using TensorFlow backend.\n"
     ]
    }
   ],
   "source": [
    "import keras\n",
    "import numpy as np\n",
    "import io\n",
    "import base64\n",
    "from IPython.display import HTML\n",
    "import skvideo.io\n",
    "import cv2\n",
    "import json\n",
    "\n",
    "from keras.models import Sequential,model_from_json\n",
    "from keras.layers.core import Dense\n",
    "from keras.optimizers import sgd\n",
    "from keras.layers import Conv2D, MaxPooling2D, Activation, AveragePooling2D,Reshape,BatchNormalization, Flatten"
   ]
  },
  {
   "cell_type": "markdown",
   "metadata": {},
   "source": [
    "# MiniProject #3: Deep Reinforcement Learning"
   ]
  },
  {
   "cell_type": "markdown",
   "metadata": {},
   "source": [
    "__Notations__: $E_p$ is the expectation under probability $p$. Please justify each of your answer and widely comment your code."
   ]
  },
  {
   "cell_type": "markdown",
   "metadata": {},
   "source": [
    "# Context"
   ]
  },
  {
   "cell_type": "markdown",
   "metadata": {},
   "source": [
    "In a reinforcement learning algorithm, we modelize each step $t$ as an action $a_t$ obtained from a state $s_t$, i.e. $\\{(a_{t},s_{t})_{t\\leq T}\\}$ having the Markov property. We consider a discount factor $\\gamma \\in [0,1]$ that ensures convergence. The goal is to find among all the policies $\\pi$, one that maximizes the expected reward:\n",
    "\n",
    "\\begin{equation*}\n",
    "R(\\pi)=\\sum_{t\\leq T}E_{p^{\\pi}}[\\gamma^t r(s_{t},a_{t})] \\> ,\n",
    "\\end{equation*}\n",
    "\n",
    "where: \n",
    "\\begin{equation*}p^{\\pi}(a_{0},a_{1},s_{1},...,a_{T},s_{T})=p(a_{0})\\prod_{t=1}^{T}\\pi(a_{t}|s_{t})p(s_{t+1}|s_{t},a_{t}) \\> .\n",
    "\\end{equation*}\n",
    "\n",
    "We note the $Q$-function:\n",
    "\n",
    "\\begin{equation*}Q^\\pi(s,a)=E_{p^{\\pi}}[\\sum_{t\\leq T}\\gamma^{t}r(s_{t},a_{t})|s_{0}=s,a_{0}=a] \\> .\n",
    "\\end{equation*}\n",
    "\n",
    "Thus, the optimal Q function is:\n",
    "\\begin{equation*}\n",
    "Q^*(s,a)=\\max_{\\pi}Q^\\pi(s,a) \\> .\n",
    "\\end{equation*}\n",
    "\n",
    "In this project, we will apply the deep reinforcement learning techniques to a simple game: an agent will have to learn from scratch a policy that will permit it maximizing a reward."
   ]
  },
  {
   "cell_type": "markdown",
   "metadata": {},
   "source": [
    "## The environment, the agent and the game"
   ]
  },
  {
   "cell_type": "markdown",
   "metadata": {},
   "source": [
    "### The environment"
   ]
  },
  {
   "cell_type": "markdown",
   "metadata": {},
   "source": [
    "```Environment``` is an abstract class that represents the states, rewards, and actions to obtain the new state."
   ]
  },
  {
   "cell_type": "code",
   "execution_count": 2,
   "metadata": {},
   "outputs": [],
   "source": [
    "class Environment(object):\n",
    "    def __init__(self):\n",
    "        pass\n",
    "\n",
    "    def act(self, act):\n",
    "        \"\"\"\n",
    "        One can act on the environment and obtain its reaction:\n",
    "        - the new state\n",
    "        - the reward of the new state\n",
    "        - should we continue the game?\n",
    "\n",
    "        :return: state, reward, game_over\n",
    "        \"\"\"\n",
    "        pass\n",
    "\n",
    "\n",
    "    def reset(self):\n",
    "        \"\"\"\n",
    "        Reinitialize the environment to a random state and returns\n",
    "        the original state\n",
    "\n",
    "        :return: state\n",
    "        \"\"\"\n",
    "        pass\n",
    "    \n",
    "    def draw(self):\n",
    "        \"\"\"\n",
    "        Visualize in the console or graphically the current state\n",
    "        \"\"\"\n",
    "        pass"
   ]
  },
  {
   "cell_type": "markdown",
   "metadata": {},
   "source": [
    "The method ```act``` allows to act on the environment at a given state $s_t$ (stored internally), via action $a_t$. The method will return the new state $s_{t+1}$, the reward $r(s_{t},a_{t})$ and determines if $t\\leq T$ (*game_over*).\n",
    "\n",
    "The method ```reset``` simply reinitializes the environment to a random state $s_0$.\n",
    "\n",
    "The method ```draw``` displays the current state $s_t$ (this is useful to check the behavior of the Agent).\n",
    "\n",
    "We modelize $s_t$ as a tensor, while $a_t$ is an integer."
   ]
  },
  {
   "cell_type": "markdown",
   "metadata": {},
   "source": [
    "### The Agent"
   ]
  },
  {
   "cell_type": "markdown",
   "metadata": {},
   "source": [
    "The goal of the ```Agent``` is to interact with the ```Environment``` by proposing actions $a_t$ obtained from a given state $s_t$ to attempt to maximize its __reward__ $r(s_t,a_t)$. We propose the following abstract class:"
   ]
  },
  {
   "cell_type": "code",
   "execution_count": 3,
   "metadata": {},
   "outputs": [],
   "source": [
    "class Agent(object):\n",
    "    def __init__(self, epsilon=0.1, n_action=4):\n",
    "        self.epsilon = epsilon\n",
    "        self.n_action = n_action\n",
    "    \n",
    "    def set_epsilon(self,e):\n",
    "        self.epsilon = e\n",
    "\n",
    "    def act(self,s,train=True):\n",
    "        \"\"\" This function should return the next action to do:\n",
    "        an integer between 0 and 4 (not included) with a random exploration of epsilon\"\"\"\n",
    "        if train:\n",
    "            if np.random.rand() <= self.epsilon:\n",
    "                a = np.random.randint(0, self.n_action, size=1)[0]\n",
    "            else:\n",
    "                a = self.learned_act(s)\n",
    "        else: # in some cases, this can improve the performance.. remove it if poor performances\n",
    "            a = self.learned_act(s)\n",
    "\n",
    "        return a\n",
    "\n",
    "    def learned_act(self,s):\n",
    "        \"\"\" Act via the policy of the agent, from a given state s\n",
    "        it proposes an action a\"\"\"\n",
    "        pass\n",
    "\n",
    "    def reinforce(self, s, n_s, a, r, game_over_):\n",
    "        \"\"\" This function is the core of the learning algorithm. \n",
    "        It takes as an input the current state s_, the next state n_s_\n",
    "        the action a_ used to move from s_ to n_s_ and the reward r_.\n",
    "        \n",
    "        Its goal is to learn a policy.\n",
    "        \"\"\"\n",
    "        pass\n",
    "\n",
    "    def save(self):\n",
    "        \"\"\" This function returns basic stats if applicable: the\n",
    "        loss and/or the model\"\"\"\n",
    "        pass\n",
    "\n",
    "    def load(self):\n",
    "        \"\"\" This function allows to restore a model\"\"\"\n",
    "        pass"
   ]
  },
  {
   "cell_type": "markdown",
   "metadata": {},
   "source": [
    "***\n",
    "__Question 1__:\n",
    "Explain the function act. Why is ```epsilon``` essential?"
   ]
  },
  {
   "cell_type": "markdown",
   "metadata": {},
   "source": [
    "The act function will make the agent act according to the current policy with a probability of $1-\\epsilon$ and act randomly with a probability of $\\epsilon$\n",
    "Acting randomly let us precise our knowledge of the value of states we would have not visited if we had acted according to the current policy. These states may show good values that will make us more inclined to choose them if we were to get back in the previous situation."
   ]
  },
  {
   "cell_type": "markdown",
   "metadata": {},
   "source": [
    "***\n",
    "### The Game"
   ]
  },
  {
   "cell_type": "markdown",
   "metadata": {},
   "source": [
    "The ```Agent``` and the ```Environment``` work in an interlaced way as in the following (take some time to understand this code as it is the core of the project)\n",
    "\n",
    "```python\n",
    "\n",
    "epoch = 300\n",
    "env = Environment()\n",
    "agent = Agent()\n",
    "\n",
    "\n",
    "# Number of won games\n",
    "score = 0\n",
    "loss = 0\n",
    "\n",
    "\n",
    "for e in range(epoch):\n",
    "    # At each epoch, we restart to a fresh game and get the initial state\n",
    "    state = env.reset()\n",
    "    # This assumes that the games will end\n",
    "    game_over = False\n",
    "\n",
    "    win = 0\n",
    "    lose = 0\n",
    "    \n",
    "    while not game_over:\n",
    "        # The agent performs an action\n",
    "        action = agent.act(state)\n",
    "\n",
    "        # Apply an action to the environment, get the next state, the reward\n",
    "        # and if the games end\n",
    "        prev_state = state\n",
    "        state, reward, game_over = env.act(action)\n",
    "\n",
    "        # Update the counters\n",
    "        if reward > 0:\n",
    "            win = win + reward\n",
    "        if reward < 0:\n",
    "            lose = lose -reward\n",
    "\n",
    "        # Apply the reinforcement strategy\n",
    "        loss = agent.reinforce(prev_state, state,  action, reward, game_over)\n",
    "\n",
    "    # Save as a mp4\n",
    "    if e % 10 == 0:\n",
    "        env.draw(e)\n",
    "\n",
    "    # Update stats\n",
    "    score += win-lose\n",
    "\n",
    "    print(\"Epoch {:03d}/{:03d} | Loss {:.4f} | Win/lose count {}/{} ({})\"\n",
    "          .format(e, epoch, loss, win, lose, win-lose))\n",
    "    agent.save()\n",
    "```"
   ]
  },
  {
   "cell_type": "markdown",
   "metadata": {},
   "source": [
    "# The game, *eat cheese*"
   ]
  },
  {
   "cell_type": "markdown",
   "metadata": {},
   "source": [
    "A rat runs on an island and tries to eat as much as possible. The island is subdivided into $N\\times N$ cells, in which there are cheese (+0.5) and poisonous cells (-1). The rat has a visibility of 2 cells (thus it can see $5^2$ cells). The rat is given a time $T$ to accumulate as much food as possible. It can perform 4 actions: going up, down, left, right. \n",
    "\n",
    "The goal is to code an agent to solve this task that will learn by trial and error. We propose the following environment:"
   ]
  },
  {
   "cell_type": "code",
   "execution_count": 4,
   "metadata": {},
   "outputs": [],
   "source": [
    "class Environment(object):\n",
    "    def __init__(self, grid_size=10, max_time=500, temperature=0.1):\n",
    "        grid_size = grid_size+4\n",
    "        self.grid_size = grid_size\n",
    "        self.max_time = max_time\n",
    "        self.temperature = temperature\n",
    "\n",
    "        #board on which one plays\n",
    "        self.board = np.zeros((grid_size,grid_size))\n",
    "        self.position = np.zeros((grid_size,grid_size))\n",
    "\n",
    "        # coordinate of the cat\n",
    "        self.x = 0\n",
    "        self.y = 1\n",
    "\n",
    "        # self time\n",
    "        self.t = 0\n",
    "\n",
    "        self.scale=16\n",
    "\n",
    "        self.to_draw = np.zeros((max_time+2, grid_size*self.scale, grid_size*self.scale, 3))\n",
    "\n",
    "\n",
    "    def draw(self,e):\n",
    "        skvideo.io.vwrite(str(e) + '.mp4', self.to_draw)\n",
    "\n",
    "    def get_frame(self,t):\n",
    "        b = np.zeros((self.grid_size,self.grid_size,3))+128\n",
    "        b[self.board>0,0] = 256\n",
    "        b[self.board < 0, 2] = 256\n",
    "        b[self.x,self.y,:]=256\n",
    "        b[-2:,:,:]=0\n",
    "        b[:,-2:,:]=0\n",
    "        b[:2,:,:]=0\n",
    "        b[:,:2,:]=0\n",
    "        \n",
    "        b =  cv2.resize(b, None, fx=self.scale, fy=self.scale, interpolation=cv2.INTER_NEAREST)\n",
    "\n",
    "        self.to_draw[t,:,:,:]=b\n",
    "\n",
    "\n",
    "    def act(self, action):\n",
    "        \"\"\"This function returns the new state, reward and decides if the\n",
    "        game ends.\"\"\"\n",
    "\n",
    "        self.get_frame(int(self.t))\n",
    "\n",
    "        self.position = np.zeros((self.grid_size, self.grid_size))\n",
    "\n",
    "        self.position[0:2,:]= -1\n",
    "        self.position[:,0:2] = -1\n",
    "        self.position[-2:, :] = -1\n",
    "        self.position[-2:, :] = -1\n",
    "\n",
    "        self.position[self.x, self.y] = 1\n",
    "        if action == 0:\n",
    "            if self.x == self.grid_size-3:\n",
    "                self.x = self.x-1\n",
    "            else:\n",
    "                self.x = self.x + 1\n",
    "        elif action == 1:\n",
    "            if self.x == 2:\n",
    "                self.x = self.x+1\n",
    "            else:\n",
    "                self.x = self.x-1\n",
    "        elif action == 2:\n",
    "            if self.y == self.grid_size - 3:\n",
    "                self.y = self.y - 1\n",
    "            else:\n",
    "                self.y = self.y + 1\n",
    "        elif action == 3:\n",
    "            if self.y == 2:\n",
    "                self.y = self.y + 1\n",
    "            else:\n",
    "                self.y = self.y - 1\n",
    "        else:\n",
    "            RuntimeError('Error: action not recognized')\n",
    "\n",
    "        self.t = self.t + 1\n",
    "        reward = self.board[self.x, self.y]\n",
    "        self.board[self.x, self.y] = 0\n",
    "        game_over = self.t > self.max_time\n",
    "        state = np.concatenate((self.board.reshape(self.grid_size, self.grid_size,1),\n",
    "                        self.position.reshape(self.grid_size, self.grid_size,1)),axis=2)\n",
    "        state = state[self.x-2:self.x+3,self.y-2:self.y+3,:]\n",
    "\n",
    "        return state, reward, game_over\n",
    "\n",
    "    def reset(self):\n",
    "        \"\"\"This function resets the game and returns the initial state\"\"\"\n",
    "\n",
    "        self.x = np.random.randint(3, self.grid_size-3, size=1)[0]\n",
    "        self.y = np.random.randint(3, self.grid_size-3, size=1)[0]\n",
    "\n",
    "\n",
    "        bonus = 0.5*np.random.binomial(1,self.temperature,size=self.grid_size**2)\n",
    "        bonus = bonus.reshape(self.grid_size,self.grid_size)\n",
    "\n",
    "        malus = -1.0*np.random.binomial(1,self.temperature,size=self.grid_size**2)\n",
    "        malus = malus.reshape(self.grid_size, self.grid_size)\n",
    "\n",
    "        self.to_draw = np.zeros((self.max_time+2, self.grid_size*self.scale, self.grid_size*self.scale, 3))\n",
    "\n",
    "\n",
    "        malus[bonus>0]=0\n",
    "\n",
    "        self.board = bonus + malus\n",
    "\n",
    "        self.position = np.zeros((self.grid_size, self.grid_size))\n",
    "        self.position[0:2,:]= -1\n",
    "        self.position[:,0:2] = -1\n",
    "        self.position[-2:, :] = -1\n",
    "        self.position[-2:, :] = -1\n",
    "        self.board[self.x,self.y] = 0\n",
    "        self.t = 0\n",
    "\n",
    "        state = np.concatenate((\n",
    "                               self.board.reshape(self.grid_size, self.grid_size,1),\n",
    "                        self.position.reshape(self.grid_size, self.grid_size,1)),axis=2)\n",
    "\n",
    "        state = state[self.x - 2:self.x + 3, self.y - 2:self.y + 3, :]\n",
    "        return state"
   ]
  },
  {
   "cell_type": "markdown",
   "metadata": {},
   "source": [
    "The following elements are important because they correspond to the hyper parameters for this project:"
   ]
  },
  {
   "cell_type": "code",
   "execution_count": 5,
   "metadata": {},
   "outputs": [],
   "source": [
    "# parameters\n",
    "size = 13\n",
    "T=200\n",
    "temperature=0.3\n",
    "epochs_train=5 # set small when debugging\n",
    "epochs_test=5 # set small when debugging\n",
    "\n",
    "# display videos\n",
    "def display_videos(name):\n",
    "    video = io.open(name, 'r+b').read()\n",
    "    encoded = base64.b64encode(video)\n",
    "    return '''<video alt=\"test\" controls>\n",
    "                <source src=\"data:video/mp4;base64,{0}\" type=\"video/mp4\" />\n",
    "             </video>'''.format(encoded.decode('ascii'))"
   ]
  },
  {
   "cell_type": "markdown",
   "metadata": {},
   "source": [
    "__Question 2__ Explain the use of the arrays ```position``` and ```board```."
   ]
  },
  {
   "cell_type": "markdown",
   "metadata": {},
   "source": [
    "The position array contains a 1 at the location from where the rat comes relatively to its current position. The board array contains the reward at each cell and maintains there values by removing the rewards already obtained by the rat"
   ]
  },
  {
   "cell_type": "markdown",
   "metadata": {},
   "source": [
    "## Random Agent"
   ]
  },
  {
   "cell_type": "markdown",
   "metadata": {},
   "source": [
    "***\n",
    "__Question 3__ Implement a random Agent (only ```learned_act``` needs to be implemented):"
   ]
  },
  {
   "cell_type": "code",
   "execution_count": 6,
   "metadata": {},
   "outputs": [],
   "source": [
    "class RandomAgent(Agent):\n",
    "    def __init__(self):\n",
    "        super(RandomAgent, self).__init__()\n",
    "        pass\n",
    "\n",
    "    def learned_act(self, s):\n",
    "        return np.random.randint(4)"
   ]
  },
  {
   "cell_type": "markdown",
   "metadata": {},
   "source": [
    "***\n",
    "***\n",
    "__Question 4__ Visualize the game moves. You need to fill in the following function for the evaluation:"
   ]
  },
  {
   "cell_type": "code",
   "execution_count": 7,
   "metadata": {},
   "outputs": [],
   "source": [
    "def test(agent,env,epochs,prefix=''):\n",
    "    # Number of won games\n",
    "    score = 0\n",
    "        \n",
    "    for e in range(epochs):\n",
    "        \n",
    "        ###### FILL IN\n",
    "        state = env.reset()\n",
    "        \n",
    "        game_over = False\n",
    "        \n",
    "        win = 0\n",
    "        lose = 0\n",
    "        while not game_over:\n",
    "            \n",
    "            env.get_frame(env.t)\n",
    "            \n",
    "            action = agent.learned_act(state)\n",
    "            \n",
    "            state, reward, game_over = env.act(action)\n",
    "            \n",
    "            if reward>0:\n",
    "                win = win + reward\n",
    "            elif reward<0:\n",
    "                lose = lose - reward\n",
    "        # Save as a mp4\n",
    "        env.draw(prefix+str(e))\n",
    "\n",
    "        # Update stats\n",
    "        score = score + win-lose\n",
    "\n",
    "        print(\"Win/lose count {}/{}. Average score ({})\"\n",
    "              .format(win, lose, score/(1+e)))\n",
    "    print('Final score: '+str(score/epochs))"
   ]
  },
  {
   "cell_type": "code",
   "execution_count": 8,
   "metadata": {},
   "outputs": [
    {
     "name": "stdout",
     "output_type": "stream",
     "text": [
      "Win/lose count 10.5/16.0. Average score (-5.5)\n",
      "Win/lose count 8.5/12.0. Average score (-4.5)\n",
      "Win/lose count 12.5/18.0. Average score (-4.833333333333333)\n",
      "Win/lose count 9.5/8.0. Average score (-3.25)\n",
      "Win/lose count 10.5/16.0. Average score (-3.7)\n",
      "Final score: -3.7\n"
     ]
    },
    {
     "data": {
      "text/html": [
       "<video alt=\"test\" controls>\n",
       "                <source src=\"data:video/mp4;base64,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\" type=\"video/mp4\" />\n",
       "             </video>"
      ],
      "text/plain": [
       "<IPython.core.display.HTML object>"
      ]
     },
     "execution_count": 8,
     "metadata": {},
     "output_type": "execute_result"
    }
   ],
   "source": [
    "# Initialize the game\n",
    "env = Environment(grid_size=size, max_time=T,temperature=temperature)\n",
    "\n",
    "# Initialize the agent!\n",
    "agent = RandomAgent()\n",
    "\n",
    "test(agent,env,epochs_test,prefix='random')\n",
    "HTML(display_videos('random0.mp4'))"
   ]
  },
  {
   "cell_type": "markdown",
   "metadata": {},
   "source": [
    "***\n",
    "## DQN"
   ]
  },
  {
   "cell_type": "markdown",
   "metadata": {},
   "source": [
    "Let us assume here that $T=\\infty$.\n",
    "\n",
    "***\n",
    "__Question 5__ Let $\\pi$ be a policy, show that:\n",
    "\n",
    "\\begin{equation*}\n",
    "Q^{\\pi}(s,a)=E_{(s',a')\\sim p(.|s,a)}[r(s,a)+\\gamma Q^{\\pi}(s',a')]\n",
    "\\end{equation*}\n",
    "\n",
    "Then, show that for the optimal policy $\\pi^*$ (we assume its existence), the following holds: \n",
    "\n",
    "\\begin{equation*}\n",
    "Q^{*}(s,a)=E_{s'\\sim \\pi^*(.|s,a)}[r(s,a)+\\gamma\\max_{a'}Q^{*}(s',a')].\n",
    "\\end{equation*}\n",
    "Finally, deduce that a plausible objective is:\n",
    "\n",
    "\\begin{equation*}\n",
    "\\mathcal{L}(\\theta)=E_{s' \\sim \\pi^*(.|s,a)}\\Vert r+\\gamma\\max_{a'}Q(s',a',\\theta)-Q(s,a,\\theta)\\Vert^{2}.\n",
    "\\end{equation*}\n",
    "\n",
    "\n"
   ]
  },
  {
   "cell_type": "markdown",
   "metadata": {},
   "source": [
    "***\n",
    "We have that $$\\begin{align}Q^\\pi(s,a)&=E_{p^{\\pi}}[\\sum_{t=0}^\\infty\\gamma^{t}r(s_{t},a_{t})|s_{0}=s,a_{0}=a] \\\\ \n",
    "&=E_{p^{\\pi}}[r(s_0,a_0)+\\gamma\\sum_{t=1}^\\infty\\gamma^{t-1}r(s_{t},a_{t})|s_{0}=s,a_{0}=a]\n",
    "\\\\&=E_{p^{\\pi}}[r(s_0,a_0)+\\gamma{E[\\sum_{t=1}^\\infty\\gamma^{t-1}r(s_{t},a_{t})|s_1,a_1] } \\space|s_{0}=s,a_{0}=a]\n",
    "\\\\&=E_{p^{\\pi}}[r(s_0,a_0)+\\gamma{Q^\\pi(s_1,a_1)}|s_{0}=s,a_{0}=a]\\end{align}$$\n",
    "\n",
    "Changing the notations to $s_1=s'$ and $a_1=a'$, and using the fact that the variable in the expectation only depends on $s'$ and $a'$, we get that:\n",
    "\n",
    "$$\\begin{equation*}Q^{\\pi}(s,a)=E_{(s',a')\\sim p^{\\pi}(.|s,a)}[r(s,a)+\\gamma Q^{\\pi}(s',a')]\\end{equation*}$$\n",
    "***\n",
    "Since $\\quad{r(s,a)+\\gamma Q^{\\pi}(s',a')}\\leq{r(s,a)+\\gamma\\max_{a'}Q^{*}(s',a')}\\quad\\forall{a'}\\quad$\n",
    "and the right side of the inequation doesn't depend on $a'$, we obtain the following by taking the expectation of the inequality:\n",
    "$$Q^{*}(s,a)\\leq{E_{s'\\sim \\pi^*(.|s,a)}[r(s,a)+\\gamma\\max_{a'}Q^{*}(s',a')]}$$\n",
    "\n",
    "Given $s$ and $a$, let's suppose the strict inequality holds.\n",
    "Let $\\pi^{*'}$ be the policy such that $\\pi^{*'}(s')=\\arg\\max_{a'}Q^{*}(s,a')$ for all $s'$ states that are reachable from s, and $\\pi^{*'}=\\pi^{*}$ on all other states\n",
    "\n",
    "We have:\n",
    "$$\\begin{align}Q^{\\pi^{*'}}(s,a)&=E_{(s',a')\\sim p^{\\pi^{*'}}(.|s,a)}[r(s,a)+\\gamma Q^{\\pi^{*'}}(s',a')]\\\\&= \n",
    "E_{s'\\sim \\pi^{*'}(.|s,a)}[r(s,a)+Q^{\\pi^{*'}}(s',\\pi^{*'}(s')]\\quad\\text{since the policy is deterministic on the states reachaable from s}\\\\\n",
    "&=E_{s'\\sim \\pi^{*}(.|s,a)}[r(s,a)+Q^{*}(s',\\pi^{*'}(s')]\\quad\\text{because the policy is}\\space\\pi^{*}\\text{on all other states}\\\\&=E_{s'\\sim \\pi^*(.|s,a)}[r(s,a)+\\gamma\\max_{a'}Q^{*}(s',a')]\\\\\n",
    "&>Q^{*}(s,a)\\end{align}$$\n",
    "\n",
    "\n",
    "Which is impossible because $\\pi^{*}$ is the optimal policy. \n",
    "Therefore we have:\n",
    "\n",
    "$$Q^{*}(s,a)=E_{s'\\sim \\pi^*(.|s,a)}[r(s,a)+\\gamma\\max_{a'}Q^{*}(s',a')]\\quad\\forall{s}\\space\\forall{a}$$\n",
    "***\n",
    "Minimizing the loss\n",
    "$$\\mathcal{L}(\\theta)=E_{s' \\sim \\pi^*(.|s,a)}\\Vert r+\\gamma\\max_{a'}Q(s',a',\\theta)-Q(s,a,\\theta)\\Vert^{2}$$\n",
    "\n",
    "will make the learned $Q$ functin closer to its transform $\\quad{E_{s'\\sim \\pi^*(.|s,a)}[r(s,a)+\\gamma\\max_{a'}Q^{*}(s',a')]}$\n",
    "therefore, the policy derived from this Q function will be closer to the optimal policy\n"
   ]
  },
  {
   "cell_type": "markdown",
   "metadata": {},
   "source": [
    "***\n",
    "The DQN-learning algorithm relies on these derivations to train the parameters $\\theta$ of a Deep Neural Network:\n",
    "\n",
    "1. At the state $s_t$, select the action $a_t$ with best reward using $Q_t$ and store the results;\n",
    "\n",
    "2. Obtain the new state $s_{t+1}$ from the environment $p$;\n",
    "\n",
    "3. Store $(s_t,a_t,s_{t+1})$;\n",
    "\n",
    "4. Obtain $Q_{t+1}$ by minimizing  $\\mathcal{L}$ from a recovered batch from the previously stored results.\n",
    "\n",
    "***\n",
    "__Question 6__ Implement the class ```Memory``` that stores moves (in a replay buffer) via ```remember``` and provides a ```random_access``` to these. Specify a maximum memory size to avoid side effects. You can for example use a ```list()``` and set by default ```max_memory=100```."
   ]
  },
  {
   "cell_type": "code",
   "execution_count": 8,
   "metadata": {},
   "outputs": [],
   "source": [
    "class Memory(object):\n",
    "    def __init__(self, max_memory=100):\n",
    "        self.max_memory = max_memory\n",
    "        self.memory = list()\n",
    "\n",
    "    def remember(self, m):\n",
    "        ''' If the memory reaches its maximum length, the first most ancient element is poped\n",
    "        '''\n",
    "        self.memory.append(m)\n",
    "        if len(self.memory)==self.max_memory:\n",
    "            self.memory.pop(0)\n",
    "\n",
    "    def random_access(self):\n",
    "        idx = np.random.randint(len(self.memory))\n",
    "        return self.memory[idx]"
   ]
  },
  {
   "cell_type": "markdown",
   "metadata": {},
   "source": [
    "***\n",
    "The pipeline we will use for training is given below:"
   ]
  },
  {
   "cell_type": "code",
   "execution_count": 9,
   "metadata": {},
   "outputs": [],
   "source": [
    "def train(agent,env,epoch,prefix=''):\n",
    "    # Number of won games\n",
    "    score = 0\n",
    "    loss = 0\n",
    "\n",
    "    for e in range(epoch):\n",
    "        # At each epoch, we restart to a fresh game and get the initial state\n",
    "        state = env.reset()\n",
    "        # This assumes that the games will terminate\n",
    "        game_over = False\n",
    "\n",
    "        win = 0\n",
    "        lose = 0\n",
    "\n",
    "        while not game_over:\n",
    "            # The agent performs an action\n",
    "            action = agent.act(state)\n",
    "\n",
    "            # Apply an action to the environment, get the next state, the reward\n",
    "            # and if the games end\n",
    "            prev_state = state\n",
    "            state, reward, game_over = env.act(action)\n",
    "\n",
    "            # Update the counters\n",
    "            if reward > 0:\n",
    "                win = win + reward\n",
    "            if reward < 0:\n",
    "                lose = lose -reward\n",
    "\n",
    "            # Apply the reinforcement strategy\n",
    "            loss = agent.reinforce(prev_state, state,  action, reward, game_over)\n",
    "\n",
    "        # Save as a mp4\n",
    "        if e % 10 == 0:\n",
    "            env.draw(prefix+str(e))\n",
    "\n",
    "        # Update stats\n",
    "        score += win-lose\n",
    "\n",
    "        print(\"Epoch {:03d}/{:03d} | Loss {:.4f} | Win/lose count {}/{} ({})\"\n",
    "              .format(e, epoch, loss, win, lose, win-lose))\n",
    "        agent.save(name_weights=prefix+'model.h5',name_model=prefix+'model.json')"
   ]
  },
  {
   "cell_type": "markdown",
   "metadata": {},
   "source": [
    "***\n",
    "__Question 7__ Implement the DQN training algorithm using a cascade of fully connected layers. You can use different learning rate, batch size or memory size parameters. In particular, the loss might oscillate while the player will start to win the games. You have to find a good criterium."
   ]
  },
  {
   "cell_type": "code",
   "execution_count": 62,
   "metadata": {},
   "outputs": [],
   "source": [
    "class DQN(Agent):\n",
    "    def __init__(self, grid_size,  epsilon = 0.1, memory_size=100, batch_size = 16,n_state=2):\n",
    "        super(DQN, self).__init__(epsilon = epsilon)\n",
    "\n",
    "        # Discount for Q learning\n",
    "        self.discount = 0.99\n",
    "        \n",
    "        self.grid_size = grid_size\n",
    "        \n",
    "        # number of state\n",
    "        self.n_state = n_state\n",
    "\n",
    "        # Memory\n",
    "        self.memory = Memory(memory_size)\n",
    "        \n",
    "        # Batch size when learning\n",
    "        self.batch_size = batch_size\n",
    "\n",
    "    def learned_act(self, s):\n",
    "        '''The current learned policy of the agent is the one that maximizes the learned Q function from the current state'''\n",
    "        Q = self.model.predict(s.reshape(1,5,5,self.n_state),batch_size=1)\n",
    "        return np.argmax(Q)\n",
    "\n",
    "    def reinforce(self, s_, n_s_, a_, r_, game_over_):\n",
    "        # Two steps: first memorize the states, second learn from the pool\n",
    "\n",
    "        self.memory.remember([s_, n_s_, a_, r_, game_over_])\n",
    "        \n",
    "        input_states = np.zeros((self.batch_size, 5,5,self.n_state))\n",
    "        target_q = np.zeros((self.batch_size, 4))\n",
    "        \n",
    "        for i in range(self.batch_size):\n",
    "            ######## FILL IN\n",
    "            state, state_new, action, reward, game_over = self.memory.random_access()\n",
    "            input_states\n",
    "            '''for each tuple (s,n_s,a,r) from the batch, we set the target to be r + gamma*q(n_s,n_a) for the action performed\n",
    "            and q(s,a') for all a' other than the action performed '''\n",
    "            if game_over_:\n",
    "                '''If the action led to a terminal state, q should be equal to the reward of the action\n",
    "                for the unseen other actions, we also set target_q to the current value of q(s,a)'''\n",
    "                target_q[i,:] = self.model.predict(state.reshape(1,5,5,self.n_state),batch_size=1)\n",
    "                target_q[i,action] = reward \n",
    "                ######## FILL IN\n",
    "            else:\n",
    "                '''else each value of the 4 cells of target_q[i,:] gets r + gamma*q(n_s,n_a) for all for possible n_a\n",
    "                afterwards we will take the max on the dimension 1'''\n",
    "                target_q[i,:] = self.model.predict(state.reshape(1,5,5,self.n_state),batch_size=1)\n",
    "                target_q[i,action] = reward + self.discount*np.max(self.model.predict(state_new.\\\n",
    "                                                                                      reshape(1,5,5,self.n_state),batch_size=1))\n",
    "                \n",
    "                \n",
    "                ######## FILL IN\n",
    "        ######## FILL IN\n",
    "        # HINT: Clip the target to avoid exploiding gradients.. -- clipping is a bit tighter\n",
    "        target_q = np.clip(target_q, -3, 3)\n",
    "\n",
    "        l = self.model.train_on_batch(input_states, target_q)\n",
    "\n",
    "\n",
    "        return l\n",
    "\n",
    "    def save(self,name_weights='model.h5',name_model='model.json'):\n",
    "        self.model.save_weights(name_weights, overwrite=True)\n",
    "        with open(name_model, \"w\") as outfile:\n",
    "            json.dump(self.model.to_json(), outfile)\n",
    "            \n",
    "    def load(self,name_weights='model.h5',name_model='model.json'):\n",
    "        with open(name_model, \"r\") as jfile:\n",
    "            model = model_from_json(json.load(jfile))\n",
    "        model.load_weights(name_weights)\n",
    "        model.compile(\"sgd\", \"mse\")\n",
    "        self.model = model\n",
    "\n",
    "            \n",
    "class DQN_FC(DQN):\n",
    "    def __init__(self, *args, lr=0.1,**kwargs):\n",
    "        super(DQN_FC, self).__init__( *args,**kwargs)\n",
    "        \n",
    "        # NN Model\n",
    "        model = Sequential()\n",
    "        model.add(Reshape((-1,)))\n",
    "        model.add(Dense(40,activation='relu'))\n",
    "        model.add(Dense(20,activation='relu'))\n",
    "        model.add(Dense(10,activation='relu'))\n",
    "        model.add(Dense(4,activation='relu'))\n",
    "        ####### FILL IN\n",
    "        \n",
    "        model.compile(sgd(lr=lr, decay=1e-4, momentum=0.0), \"mse\")\n",
    "        self.model = model\n",
    "        "
   ]
  },
  {
   "cell_type": "code",
   "execution_count": 24,
   "metadata": {},
   "outputs": [
    {
     "name": "stdout",
     "output_type": "stream",
     "text": [
      "Epoch 000/012 | Loss 0.0196 | Win/lose count 0.5/8.0 (-7.5)\n",
      "Epoch 001/012 | Loss 0.0070 | Win/lose count 3.0/6.0 (-3.0)\n",
      "Epoch 002/012 | Loss 0.0242 | Win/lose count 1.0/11.0 (-10.0)\n",
      "Epoch 003/012 | Loss 0.0212 | Win/lose count 4.0/6.0 (-2.0)\n",
      "Epoch 004/012 | Loss 0.0086 | Win/lose count 2.0/2.0 (0.0)\n",
      "Epoch 005/012 | Loss 0.0210 | Win/lose count 3.0/3.0 (0.0)\n",
      "Epoch 006/012 | Loss 0.0090 | Win/lose count 5.0/10.0 (-5.0)\n",
      "Epoch 007/012 | Loss 0.0085 | Win/lose count 3.5/12.0 (-8.5)\n",
      "Epoch 008/012 | Loss 0.0108 | Win/lose count 3.0/2.0 (1.0)\n",
      "Epoch 009/012 | Loss 0.0142 | Win/lose count 3.5/10.0 (-6.5)\n",
      "Epoch 010/012 | Loss 0.0175 | Win/lose count 4.0/10.0 (-6.0)\n",
      "Epoch 011/012 | Loss 0.0078 | Win/lose count 4.5/6.0 (-1.5)\n"
     ]
    },
    {
     "data": {
      "text/html": [
       "<video alt=\"test\" controls>\n",
       "                <source src=\"data:video/mp4;base64,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\" type=\"video/mp4\" />\n",
       "             </video>"
      ],
      "text/plain": [
       "<IPython.core.display.HTML object>"
      ]
     },
     "execution_count": 24,
     "metadata": {},
     "output_type": "execute_result"
    }
   ],
   "source": [
    "epochs_train = 12\n",
    "T = 200\n",
    "env = Environment(grid_size=size, max_time=T, temperature=0.3)\n",
    "agent = DQN_FC(size, lr=.1, epsilon = 0.2, memory_size=1000, batch_size = 64)\n",
    "train(agent, env, epochs_train, prefix='fc_train')\n",
    "HTML(display_videos('fc_train20.mp4'))"
   ]
  },
  {
   "cell_type": "markdown",
   "metadata": {},
   "source": [
    "***\n",
    "***\n",
    "__Question 8__ Implement the DQN training algorithm using a CNN (for example, 2 convolutional layers and one final fully connected layer)."
   ]
  },
  {
   "cell_type": "code",
   "execution_count": 63,
   "metadata": {},
   "outputs": [],
   "source": [
    "class DQN_CNN(DQN):\n",
    "    def __init__(self, *args,lr=0.1,**kwargs):\n",
    "        super(DQN_CNN, self).__init__(*args,**kwargs)\n",
    "        model = Sequential()\n",
    "        model.add(Conv2D(32,(3,3),activation='relu'))\n",
    "        model.add(Conv2D(64,(3,3),activation='relu'))\n",
    "        model.add(Flatten())\n",
    "        model.add(Dense(4,activation='relu'))\n",
    "        ###### FILL IN\n",
    "        \n",
    "        model.compile(sgd(lr=lr, decay=1e-4, momentum=0.0), \"mse\")\n",
    "        self.model = model"
   ]
  },
  {
   "cell_type": "code",
   "execution_count": 41,
   "metadata": {},
   "outputs": [
    {
     "name": "stdout",
     "output_type": "stream",
     "text": [
      "Epoch 000/021 | Loss 0.0083 | Win/lose count 1.5/6.0 (-4.5)\n",
      "Epoch 001/021 | Loss 0.0087 | Win/lose count 2.5/10.0 (-7.5)\n",
      "Epoch 002/021 | Loss 0.0027 | Win/lose count 4.5/5.0 (-0.5)\n",
      "Epoch 003/021 | Loss 0.0240 | Win/lose count 6.5/12.0 (-5.5)\n",
      "Epoch 004/021 | Loss 0.0067 | Win/lose count 3.5/3.0 (0.5)\n",
      "Epoch 005/021 | Loss 0.0006 | Win/lose count 2.0/5.0 (-3.0)\n",
      "Epoch 006/021 | Loss 0.0007 | Win/lose count 3.5/7.0 (-3.5)\n",
      "Epoch 007/021 | Loss 0.0045 | Win/lose count 8.5/12.0 (-3.5)\n",
      "Epoch 008/021 | Loss 0.0023 | Win/lose count 5.5/5.0 (0.5)\n",
      "Epoch 009/021 | Loss 0.0010 | Win/lose count 5.0/11.0 (-6.0)\n",
      "Epoch 010/021 | Loss 0.0317 | Win/lose count 7.0/11.0 (-4.0)\n",
      "Epoch 011/021 | Loss 0.0023 | Win/lose count 2.0/6.0 (-4.0)\n",
      "Epoch 012/021 | Loss 0.0303 | Win/lose count 6.5/7.0 (-0.5)\n",
      "Epoch 013/021 | Loss 0.0222 | Win/lose count 6.5/8.0 (-1.5)\n",
      "Epoch 014/021 | Loss 0.0199 | Win/lose count 8.5/7.0 (1.5)\n",
      "Epoch 015/021 | Loss 0.0276 | Win/lose count 4.0/6.0 (-2.0)\n",
      "Epoch 016/021 | Loss 0.0021 | Win/lose count 5.5/10.0 (-4.5)\n",
      "Epoch 017/021 | Loss 0.0100 | Win/lose count 3.5/5.0 (-1.5)\n",
      "Epoch 018/021 | Loss 0.0163 | Win/lose count 6.5/13.0 (-6.5)\n",
      "Epoch 019/021 | Loss 0.0030 | Win/lose count 3.0/5.0 (-2.0)\n",
      "Epoch 020/021 | Loss 0.0102 | Win/lose count 4.5/12.0 (-7.5)\n"
     ]
    },
    {
     "data": {
      "text/html": [
       "<video alt=\"test\" controls>\n",
       "                <source src=\"data:video/mp4;base64,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\" type=\"video/mp4\" />\n",
       "             </video>"
      ],
      "text/plain": [
       "<IPython.core.display.HTML object>"
      ]
     },
     "execution_count": 41,
     "metadata": {},
     "output_type": "execute_result"
    }
   ],
   "source": [
    "env = Environment(grid_size=size, max_time=T, temperature=0.3)\n",
    "agent = DQN_CNN(size, lr=.05, epsilon = 0.25, memory_size=1000, batch_size = 32)\n",
    "train(agent,env,epochs_train,prefix='cnn_train')\n",
    "HTML(display_videos('cnn_train10.mp4'))"
   ]
  },
  {
   "cell_type": "markdown",
   "metadata": {},
   "source": [
    "***\n",
    "***\n",
    "__Question 9__ Test both algorithms and compare their performances. Which issue(s) do you observe? Observe also different behaviors by changing the temperature."
   ]
  },
  {
   "cell_type": "code",
   "execution_count": 42,
   "metadata": {},
   "outputs": [
    {
     "name": "stdout",
     "output_type": "stream",
     "text": [
      "Test of the CNN\n",
      "Win/lose count 0.5/1.0. Average score (-0.5)\n",
      "Win/lose count 1.5/3.0. Average score (-1.0)\n",
      "Win/lose count 1.5/4.0. Average score (-1.5)\n",
      "Win/lose count 2.0/2.0. Average score (-1.125)\n",
      "Win/lose count 1.0/1.0. Average score (-0.9)\n",
      "Final score: -0.9\n",
      "Test of the FC\n",
      "Win/lose count 0.5/0. Average score (0.5)\n",
      "Win/lose count 0/0. Average score (0.25)\n",
      "Win/lose count 0.5/0. Average score (0.3333333333333333)\n",
      "Win/lose count 0/1.0. Average score (0.0)\n",
      "Win/lose count 0.5/0. Average score (0.1)\n",
      "Final score: 0.1\n"
     ]
    }
   ],
   "source": [
    "env = Environment(grid_size=size, max_time=T,temperature=0.3)\n",
    "agent_cnn = DQN_CNN(size, lr=.1, epsilon = 0.1, memory_size=2000, batch_size = 32)\n",
    "agent_cnn.load(name_weights='cnn_trainmodel.h5',name_model='cnn_trainmodel.json')\n",
    "\n",
    "agent_fc = DQN_FC(size, lr=.1, epsilon = 0.1, memory_size=2000, batch_size = 32)\n",
    "agent_cnn.load(name_weights='fc_trainmodel.h5',name_model='fc_trainmodel.json')\n",
    "print('Test of the CNN')\n",
    "test(agent_cnn,env,epochs_test,prefix='cnn_test')\n",
    "print('Test of the FC')\n",
    "test(agent_fc,env,epochs_test,prefix='fc_test')"
   ]
  },
  {
   "cell_type": "code",
   "execution_count": 45,
   "metadata": {},
   "outputs": [
    {
     "data": {
      "text/html": [
       "<video alt=\"test\" controls>\n",
       "                <source src=\"data:video/mp4;base64,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\" type=\"video/mp4\" />\n",
       "             </video>"
      ],
      "text/plain": [
       "<IPython.core.display.HTML object>"
      ]
     },
     "execution_count": 45,
     "metadata": {},
     "output_type": "execute_result"
    }
   ],
   "source": [
    "HTML(display_videos('cnn_test4.mp4'))"
   ]
  },
  {
   "cell_type": "code",
   "execution_count": 46,
   "metadata": {},
   "outputs": [
    {
     "data": {
      "text/html": [
       "<video alt=\"test\" controls>\n",
       "                <source src=\"data:video/mp4;base64,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\" type=\"video/mp4\" />\n",
       "             </video>"
      ],
      "text/plain": [
       "<IPython.core.display.HTML object>"
      ]
     },
     "execution_count": 46,
     "metadata": {},
     "output_type": "execute_result"
    }
   ],
   "source": [
    "HTML(display_videos('fc_test4.mp4'))"
   ]
  },
  {
   "cell_type": "markdown",
   "metadata": {},
   "source": [
    "The issues I observed are that the agent tends to get stuck in some parts of the map.\n",
    "Also, it seems to have learned to avoid the negative rewards, but doesn't seems very attracted by the positive rewards."
   ]
  },
  {
   "cell_type": "markdown",
   "metadata": {},
   "source": [
    "***\n",
    "\n",
    "The algorithm tends to not explore the map which can be an issue. We propose two ideas in order to encourage exploration:\n",
    "1. Incorporating a decreasing $\\epsilon$-greedy exploration. You can use the method ```set_epsilon```\n",
    "2. Append via the environment a new state that describes if a cell has been visited or not\n",
    "\n",
    "***\n",
    "__Question 10__ Design a new ```train_explore``` function and environment class ```EnvironmentExploring``` to tackle the issue of exploration.\n",
    "\n"
   ]
  },
  {
   "cell_type": "code",
   "execution_count": 48,
   "metadata": {},
   "outputs": [],
   "source": [
    "def train_explore(agent,env,epoch,decay=0.95,prefix=''):\n",
    "    '''I copy passed the code from the train function.\n",
    "        A decay argument is added. this will be applied to epsilon at each epoch'''\n",
    "    # Number of won games\n",
    "    score = 0\n",
    "    loss = 0\n",
    "\n",
    "    for e in range(epoch):\n",
    "        # At each epoch, we restart to a fresh game and get the initial state\n",
    "        state = env.reset()\n",
    "        # This assumes that the games will terminate\n",
    "        game_over = False\n",
    "\n",
    "        win = 0\n",
    "        lose = 0\n",
    "\n",
    "        while not game_over:\n",
    "            # The agent performs an action\n",
    "            action = agent.act(state)\n",
    "\n",
    "            # Apply an action to the environment, get the next state, the reward\n",
    "            # and if the games end\n",
    "            prev_state = state\n",
    "            '''The actions are made in train mode'''\n",
    "            state, reward, game_over = env.act(action, train=True)\n",
    "\n",
    "            # Update the counters\n",
    "            if reward > 0:\n",
    "                win = win + reward\n",
    "            if reward < 0:\n",
    "                lose = lose -reward\n",
    "\n",
    "            # Apply the reinforcement strategy\n",
    "            loss = agent.reinforce(prev_state, state,  action, reward, game_over)\n",
    "            \n",
    "        '''The epsilon factor is applied at each epoch'''\n",
    "        agent.set_epsilon(agent.epsilon*decay)\n",
    "\n",
    "        # Save as a mp4\n",
    "        if e % 10 == 0:\n",
    "            env.draw(prefix+str(e))\n",
    "\n",
    "        # Update stats\n",
    "        score += win-lose\n",
    "\n",
    "        print(\"Epoch {:03d}/{:03d} | Loss {:.4f} | Win/lose count {}/{} ({})\"\n",
    "              .format(e, epoch, loss, win, lose, win-lose))\n",
    "        agent.save(name_weights=prefix+'model.h5',name_model=prefix+'model.json')\n",
    "                          \n",
    "                          \n",
    "        \n",
    "class EnvironmentExploring(object):\n",
    "    def __init__(self, grid_size=10, max_time=500, temperature=0.1):\n",
    "        grid_size = grid_size+4\n",
    "        self.grid_size = grid_size\n",
    "        self.max_time = max_time\n",
    "        self.temperature = temperature\n",
    "\n",
    "        #board on which one plays\n",
    "        self.board = np.zeros((grid_size,grid_size))\n",
    "        self.position = np.zeros((grid_size,grid_size))\n",
    "        '''The third array is initialized with zeros'''\n",
    "        self.malus_position = np.zeros((grid_size,grid_size))\n",
    "\n",
    "        # coordinate of the cat\n",
    "        self.x = 0\n",
    "        self.y = 1\n",
    "\n",
    "        # self time\n",
    "        self.t = 0\n",
    "\n",
    "        self.scale=16\n",
    "\n",
    "        self.to_draw = np.zeros((max_time+2, grid_size*self.scale, grid_size*self.scale, 3))\n",
    "\n",
    "\n",
    "    def draw(self,e):\n",
    "        skvideo.io.vwrite(str(e) + '.mp4', self.to_draw)\n",
    "\n",
    "    def get_frame(self,t):\n",
    "        b = np.zeros((self.grid_size,self.grid_size,3))+128\n",
    "        b[self.board>0,0] = 256\n",
    "        b[self.board < 0, 2] = 256\n",
    "        b[self.x,self.y,:]=256\n",
    "        b[-2:,:,:]=0\n",
    "        b[:,-2:,:]=0\n",
    "        b[:2,:,:]=0\n",
    "        b[:,:2,:]=0\n",
    "        \n",
    "        b =  cv2.resize(b, None, fx=self.scale, fy=self.scale, interpolation=cv2.INTER_NEAREST)\n",
    "\n",
    "        self.to_draw[t,:,:,:]=b\n",
    "\n",
    "\n",
    "    def act(self, action, train = False):\n",
    "\n",
    "        self.get_frame(int(self.t))\n",
    "\n",
    "        self.position = np.zeros((self.grid_size, self.grid_size))\n",
    "\n",
    "        self.position[0:2,:]= -1\n",
    "        self.position[:,0:2] = -1\n",
    "        self.position[-2:, :] = -1\n",
    "        self.position[-2:, :] = -1\n",
    "\n",
    "        self.position[self.x, self.y] = 1\n",
    "        if action == 0:\n",
    "            if self.x == self.grid_size-3:\n",
    "                self.x = self.x-1\n",
    "            else:\n",
    "                self.x = self.x + 1\n",
    "        elif action == 1:\n",
    "            if self.x == 2:\n",
    "                self.x = self.x+1\n",
    "            else:\n",
    "                self.x = self.x-1\n",
    "        elif action == 2:\n",
    "            if self.y == self.grid_size - 3:\n",
    "                self.y = self.y - 1\n",
    "            else:\n",
    "                self.y = self.y + 1\n",
    "        elif action == 3:\n",
    "            if self.y == 2:\n",
    "                self.y = self.y + 1\n",
    "            else:\n",
    "                self.y = self.y - 1\n",
    "        else:\n",
    "            RuntimeError('Error: action not recognized')\n",
    "\n",
    "        self.t = self.t + 1\n",
    "        \n",
    "        ''' The definition of the reward and the update of the malus_position array is made here'''\n",
    "        reward = 0\n",
    "        if train:\n",
    "            reward = -self.malus_position[self.x, self.y]\n",
    "        self.malus_position[self.x, self.y] = 0.2\n",
    "        reward +=self.board[self.x, self.y]\n",
    "        # --------------------- #\n",
    "        \n",
    "        self.board[self.x, self.y] = 0\n",
    "        game_over = self.t > self.max_time\n",
    "        \n",
    "        '''The malus_position array is added in the state'''\n",
    "        state = np.concatenate((self.malus_position.reshape(self.grid_size, self.grid_size,1),\n",
    "                                self.board.reshape(self.grid_size, self.grid_size,1),\n",
    "                                self.position.reshape(self.grid_size, self.grid_size,1)),axis=2)\n",
    "        state = state[self.x-2:self.x+3,self.y-2:self.y+3,:]\n",
    "\n",
    "        return state, reward, game_over\n",
    "\n",
    "    def reset(self):\n",
    "        \"\"\"This function resets the game and returns the initial state\"\"\"\n",
    "\n",
    "        self.x = np.random.randint(3, self.grid_size-3, size=1)[0]\n",
    "        self.y = np.random.randint(3, self.grid_size-3, size=1)[0]\n",
    "\n",
    "\n",
    "        bonus = 0.5*np.random.binomial(1,self.temperature,size=self.grid_size**2)\n",
    "        bonus = bonus.reshape(self.grid_size,self.grid_size)\n",
    "\n",
    "        malus = -1.0*np.random.binomial(1,self.temperature,size=self.grid_size**2)\n",
    "        malus = malus.reshape(self.grid_size, self.grid_size)\n",
    "\n",
    "        self.to_draw = np.zeros((self.max_time+2, self.grid_size*self.scale, self.grid_size*self.scale, 3))\n",
    "\n",
    "\n",
    "        malus[bonus>0]=0\n",
    "\n",
    "        self.board = bonus + malus\n",
    "\n",
    "        self.position = np.zeros((self.grid_size, self.grid_size))\n",
    "        self.position[0:2,:]= -1\n",
    "        self.position[:,0:2] = -1\n",
    "        self.position[-2:, :] = -1\n",
    "        self.position[-2:, :] = -1\n",
    "        self.board[self.x,self.y] = 0\n",
    "        self.t = 0\n",
    "        \n",
    "        '''The code to reinitialize malus_position is added here'''\n",
    "        self.malus_position = np.zeros((self.grid_size, self.grid_size))\n",
    "        self.malus_position[self.x,self.y] = 0.2\n",
    "        \n",
    "        state = np.concatenate((self.malus_position.reshape(self.grid_size, self.grid_size,1),\n",
    "                                self.board.reshape(self.grid_size, self.grid_size,1),\n",
    "                                self.position.reshape(self.grid_size, self.grid_size,1)),axis=2)\n",
    "\n",
    "        state = state[self.x - 2:self.x + 3, self.y - 2:self.y + 3, :]\n",
    "        return state"
   ]
  },
  {
   "cell_type": "code",
   "execution_count": 64,
   "metadata": {},
   "outputs": [
    {
     "name": "stdout",
     "output_type": "stream",
     "text": [
      "Epoch 000/021 | Loss 0.0118 | Win/lose count 1.5/39.60000000000003 (-38.10000000000003)\n",
      "Epoch 001/021 | Loss 0.0157 | Win/lose count 5.0/37.800000000000004 (-32.800000000000004)\n",
      "Epoch 002/021 | Loss 0.0101 | Win/lose count 1.0/41.00000000000005 (-40.00000000000005)\n",
      "Epoch 003/021 | Loss 0.0171 | Win/lose count 4.5/36.79999999999998 (-32.29999999999998)\n",
      "Epoch 004/021 | Loss 0.0160 | Win/lose count 2.5/40.00000000000002 (-37.50000000000002)\n",
      "Epoch 005/021 | Loss 0.0159 | Win/lose count 4.5/39.80000000000002 (-35.30000000000002)\n",
      "Epoch 006/021 | Loss 0.0104 | Win/lose count 3.0/38.600000000000016 (-35.600000000000016)\n",
      "Epoch 007/021 | Loss 0.0199 | Win/lose count 0.5/41.600000000000065 (-41.100000000000065)\n",
      "Epoch 008/021 | Loss 0.0097 | Win/lose count 2.5/42.00000000000007 (-39.50000000000007)\n",
      "Epoch 009/021 | Loss 0.0163 | Win/lose count 2.5/40.800000000000026 (-38.300000000000026)\n",
      "Epoch 010/021 | Loss 0.0158 | Win/lose count 1.0/41.00000000000005 (-40.00000000000005)\n",
      "Epoch 011/021 | Loss 0.0228 | Win/lose count 3.0/43.40000000000005 (-40.40000000000005)\n",
      "Epoch 012/021 | Loss 0.0189 | Win/lose count 3.5/39.40000000000003 (-35.90000000000003)\n",
      "Epoch 013/021 | Loss 0.0160 | Win/lose count 3.0/38.39999999999999 (-35.39999999999999)\n",
      "Epoch 014/021 | Loss 0.0146 | Win/lose count 2.5/38.80000000000002 (-36.30000000000002)\n",
      "Epoch 015/021 | Loss 0.0176 | Win/lose count 1.5/41.400000000000055 (-39.900000000000055)\n",
      "Epoch 016/021 | Loss 0.0202 | Win/lose count 2.0/41.20000000000004 (-39.20000000000004)\n",
      "Epoch 017/021 | Loss 0.0144 | Win/lose count 1.5/41.400000000000055 (-39.900000000000055)\n",
      "Epoch 018/021 | Loss 0.0101 | Win/lose count 2.0/39.60000000000003 (-37.60000000000003)\n",
      "Epoch 019/021 | Loss 0.0147 | Win/lose count 3.5/39.60000000000003 (-36.10000000000003)\n",
      "Epoch 020/021 | Loss 0.0102 | Win/lose count 3.0/42.40000000000006 (-39.40000000000006)\n"
     ]
    },
    {
     "data": {
      "text/html": [
       "<video alt=\"test\" controls>\n",
       "                <source src=\"data:video/mp4;base64,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\" type=\"video/mp4\" />\n",
       "             </video>"
      ],
      "text/plain": [
       "<IPython.core.display.HTML object>"
      ]
     },
     "execution_count": 64,
     "metadata": {},
     "output_type": "execute_result"
    }
   ],
   "source": [
    "# Training\n",
    "epochs_train = 21\n",
    "env = EnvironmentExploring(grid_size=size, max_time=T, temperature=0.3)\n",
    "agent = DQN_CNN(size, lr=0.1, epsilon = 0.2, memory_size=1500, batch_size = 64,n_state=3)\n",
    "train_explore(agent, env, epochs_train, decay=0.95, prefix='cnn_train_explore')\n",
    "HTML(display_videos('cnn_train_explore20.mp4'))"
   ]
  },
  {
   "cell_type": "code",
   "execution_count": 58,
   "metadata": {},
   "outputs": [
    {
     "name": "stdout",
     "output_type": "stream",
     "text": [
      "Win/lose count 1.0/3.0. Average score (-2.0)\n",
      "Win/lose count 0/0. Average score (-1.0)\n",
      "Win/lose count 0/1.0. Average score (-1.0)\n",
      "Win/lose count 1.0/3.0. Average score (-1.25)\n",
      "Win/lose count 0.5/0. Average score (-0.9)\n",
      "Win/lose count 0/0. Average score (-0.75)\n",
      "Win/lose count 1.5/1.0. Average score (-0.5714285714285714)\n",
      "Win/lose count 0.5/0. Average score (-0.4375)\n",
      "Win/lose count 2.5/2.0. Average score (-0.3333333333333333)\n",
      "Win/lose count 3.5/3.0. Average score (-0.25)\n",
      "Win/lose count 3.0/3.0. Average score (-0.22727272727272727)\n",
      "Final score: -0.22727272727272727\n"
     ]
    },
    {
     "data": {
      "text/html": [
       "<video alt=\"test\" controls>\n",
       "                <source src=\"data:video/mp4;base64,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\" type=\"video/mp4\" />\n",
       "             </video>"
      ],
      "text/plain": [
       "<IPython.core.display.HTML object>"
      ]
     },
     "execution_count": 58,
     "metadata": {},
     "output_type": "execute_result"
    }
   ],
   "source": [
    "# Evaluation\n",
    "epochs_test = 11\n",
    "test(agent,env,epochs_test,prefix='cnn_test_explore')\n",
    "HTML(display_videos('cnn_test_explore10.mp4'))"
   ]
  },
  {
   "cell_type": "markdown",
   "metadata": {},
   "source": [
    "***\n",
    "***\n",
    "__BONUS question__ Use the expert DQN from the previous question to generate some winning games. Train a model that mimicks its behavior. Compare the performances."
   ]
  },
  {
   "cell_type": "markdown",
   "metadata": {},
   "source": []
  },
  {
   "cell_type": "markdown",
   "metadata": {},
   "source": [
    "***"
   ]
  }
 ],
 "metadata": {
  "kernelspec": {
   "display_name": "Python 3",
   "language": "python",
   "name": "python3"
  },
  "language_info": {
   "codemirror_mode": {
    "name": "ipython",
    "version": 3
   },
   "file_extension": ".py",
   "mimetype": "text/x-python",
   "name": "python",
   "nbconvert_exporter": "python",
   "pygments_lexer": "ipython3",
   "version": "3.7.1"
  }
 },
 "nbformat": 4,
 "nbformat_minor": 2
}
